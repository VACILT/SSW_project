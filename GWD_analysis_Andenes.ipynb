{
 "cells": [
  {
   "cell_type": "markdown",
   "id": "eca44042",
   "metadata": {
    "papermill": {
     "duration": 0.023375,
     "end_time": "2021-06-07T20:43:04.877986",
     "exception": false,
     "start_time": "2021-06-07T20:43:04.854611",
     "status": "completed"
    },
    "tags": []
   },
   "source": [
    "# Analysis of the Gravity wave drag"
   ]
  },
  {
   "cell_type": "code",
   "execution_count": 1,
   "id": "d21abe05",
   "metadata": {
    "execution": {
     "iopub.execute_input": "2021-06-07T20:43:04.957934Z",
     "iopub.status.busy": "2021-06-07T20:43:04.957239Z",
     "iopub.status.idle": "2021-06-07T20:43:05.847823Z",
     "shell.execute_reply": "2021-06-07T20:43:05.846720Z"
    },
    "papermill": {
     "duration": 0.931382,
     "end_time": "2021-06-07T20:43:05.848135",
     "exception": false,
     "start_time": "2021-06-07T20:43:04.916753",
     "status": "completed"
    },
    "tags": []
   },
   "outputs": [],
   "source": [
    "from netCDF4 import Dataset, num2date\n",
    "import xarray as xr\n",
    "import xarray.ufuncs as xrf\n",
    "import numpy as np\n",
    "import matplotlib.pyplot as plt\n",
    "import pandas as pd\n",
    "import glob"
   ]
  },
  {
   "cell_type": "markdown",
   "id": "bc349ecf",
   "metadata": {
    "papermill": {
     "duration": 0.006214,
     "end_time": "2021-06-07T20:43:05.866740",
     "exception": false,
     "start_time": "2021-06-07T20:43:05.860526",
     "status": "completed"
    },
    "tags": []
   },
   "source": [
    "## Definitions"
   ]
  },
  {
   "cell_type": "code",
   "execution_count": 2,
   "id": "cb9688c1",
   "metadata": {
    "execution": {
     "iopub.execute_input": "2021-06-07T20:43:05.886105Z",
     "iopub.status.busy": "2021-06-07T20:43:05.885689Z",
     "iopub.status.idle": "2021-06-07T20:43:05.888634Z",
     "shell.execute_reply": "2021-06-07T20:43:05.888952Z"
    },
    "papermill": {
     "duration": 0.015196,
     "end_time": "2021-06-07T20:43:05.889087",
     "exception": false,
     "start_time": "2021-06-07T20:43:05.873891",
     "status": "completed"
    },
    "tags": []
   },
   "outputs": [],
   "source": [
    "def anomalie(step,var):\n",
    "    string = \"time.\"+step   \n",
    "    climatology = var.groupby(string).mean(\"time\")\n",
    "    anomalies = var.groupby(string) - climatology\n",
    "    \n",
    "    return anomalies"
   ]
  },
  {
   "cell_type": "code",
   "execution_count": 3,
   "id": "374d5895",
   "metadata": {
    "execution": {
     "iopub.execute_input": "2021-06-07T20:43:05.913535Z",
     "iopub.status.busy": "2021-06-07T20:43:05.913116Z",
     "iopub.status.idle": "2021-06-07T20:43:05.915996Z",
     "shell.execute_reply": "2021-06-07T20:43:05.915668Z"
    },
    "papermill": {
     "duration": 0.01975,
     "end_time": "2021-06-07T20:43:05.916075",
     "exception": false,
     "start_time": "2021-06-07T20:43:05.896325",
     "status": "completed"
    },
    "tags": []
   },
   "outputs": [],
   "source": [
    "def sea(days_period,station,var):\n",
    "    df_dates = pd.read_csv('/home/hochatmstud/bene/dates/without_final_warmings/ssw_dates_without_final_warmings_'+station+'.csv') # you can load SSWs from a csv file like attached\n",
    "    dates = df_dates.set_index('BeginDate')\n",
    "\n",
    "    xa_ls = []\n",
    "    max_lag = days_period\n",
    "    for il, days in enumerate(range(-max_lag,max_lag+1)):  \n",
    "        sel_dates = pd.to_datetime(dates.index) + pd.Timedelta(str(days)+' days')\n",
    "        mask = np.in1d(var.time.dt.floor('1D'),sel_dates)\n",
    "        comp_m = var.sel(time = mask).mean('time')\n",
    "        xa_ls.append(comp_m)\n",
    "   \n",
    "    xa_comp = xr.concat(xa_ls, dim = 'days')\n",
    "    xa_comp['days'] = range(-max_lag, max_lag+1)\n",
    "\n",
    "    # print(xa_comp)\n",
    "    return xa_comp"
   ]
  },
  {
   "cell_type": "markdown",
   "id": "9afbcb68",
   "metadata": {
    "papermill": {
     "duration": 0.007335,
     "end_time": "2021-06-07T20:43:05.933613",
     "exception": false,
     "start_time": "2021-06-07T20:43:05.926278",
     "status": "completed"
    },
    "tags": []
   },
   "source": [
    "## Analysis"
   ]
  },
  {
   "cell_type": "code",
   "execution_count": 4,
   "id": "7d8ad0fe",
   "metadata": {
    "execution": {
     "iopub.execute_input": "2021-06-07T20:43:05.950674Z",
     "iopub.status.busy": "2021-06-07T20:43:05.950250Z",
     "iopub.status.idle": "2021-06-07T20:43:05.953297Z",
     "shell.execute_reply": "2021-06-07T20:43:05.952938Z"
    },
    "papermill": {
     "duration": 0.013748,
     "end_time": "2021-06-07T20:43:05.953394",
     "exception": false,
     "start_time": "2021-06-07T20:43:05.939646",
     "status": "completed"
    },
    "tags": [
     "parameters"
    ]
   },
   "outputs": [],
   "source": [
    "station = 'Leipzig'"
   ]
  },
  {
   "cell_type": "code",
   "execution_count": 5,
   "id": "facb7378",
   "metadata": {
    "execution": {
     "iopub.execute_input": "2021-06-07T20:43:05.971127Z",
     "iopub.status.busy": "2021-06-07T20:43:05.970711Z",
     "iopub.status.idle": "2021-06-07T20:43:05.973449Z",
     "shell.execute_reply": "2021-06-07T20:43:05.973776Z"
    },
    "papermill": {
     "duration": 0.013757,
     "end_time": "2021-06-07T20:43:05.973875",
     "exception": false,
     "start_time": "2021-06-07T20:43:05.960118",
     "status": "completed"
    },
    "tags": [
     "injected-parameters"
    ]
   },
   "outputs": [],
   "source": [
    "# Parameters\n",
    "station = \"Andenes\"\n"
   ]
  },
  {
   "cell_type": "code",
   "execution_count": 6,
   "id": "2a72c17a",
   "metadata": {
    "execution": {
     "iopub.execute_input": "2021-06-07T20:43:05.995091Z",
     "iopub.status.busy": "2021-06-07T20:43:05.994662Z",
     "iopub.status.idle": "2021-06-07T20:43:05.997256Z",
     "shell.execute_reply": "2021-06-07T20:43:05.996911Z"
    },
    "papermill": {
     "duration": 0.016401,
     "end_time": "2021-06-07T20:43:05.997350",
     "exception": false,
     "start_time": "2021-06-07T20:43:05.980949",
     "status": "completed"
    },
    "tags": []
   },
   "outputs": [],
   "source": [
    "if station == 'Leipzig':\n",
    "    dir = '/home/gemeinsam_tmp/UA_students/data/PW_GW_analysis/GWD_2004-08-01_2020-12-01_Col.nc'\n",
    "elif station == 'CMOR':\n",
    "    dir = '/home/gemeinsam_tmp/UA_students/data/PW_GW_analysis/GWD_2002-01-01_2020-11-01_CMA.nc'\n",
    "elif station == 'Esrange':\n",
    "    dir = '/home/gemeinsam_tmp/UA_students/data/PW_GW_analysis/GWD_1999-08-01_2021-03-01_Kir.nc'\n",
    "elif station == 'Sodankyla':\n",
    "    dir = '/home/gemeinsam_tmp/UA_students/data/PW_GW_analysis/GWD_2008-10-01_2021-03-01_Sod.nc'\n",
    "elif station == 'Davis':\n",
    "    dir = '/home/gemeinsam_tmp/UA_students/data/PW_GW_analysis/GWD_2005-01-01_2020-12-01_Dav.nc'\n",
    "elif station == 'RioGrande':\n",
    "    dir = '/home/gemeinsam_tmp/UA_students/data/PW_GW_analysis/GWD_2008-02-01_2021-01-01_Rio.nc'\n",
    "elif station == 'Andenes':\n",
    "    dir = '/home/gemeinsam_tmp/UA_students/data/PW_GW_analysis/GWD_1999-08-01_2019-12-01_SES.nc'"
   ]
  },
  {
   "cell_type": "code",
   "execution_count": 7,
   "id": "42caf289",
   "metadata": {
    "execution": {
     "iopub.execute_input": "2021-06-07T20:43:06.021675Z",
     "iopub.status.busy": "2021-06-07T20:43:06.021275Z",
     "iopub.status.idle": "2021-06-07T20:43:06.040922Z",
     "shell.execute_reply": "2021-06-07T20:43:06.040139Z"
    },
    "papermill": {
     "duration": 0.036342,
     "end_time": "2021-06-07T20:43:06.041131",
     "exception": false,
     "start_time": "2021-06-07T20:43:06.004789",
     "status": "completed"
    },
    "tags": []
   },
   "outputs": [],
   "source": [
    "ds=xr.open_dataset(dir)"
   ]
  },
  {
   "cell_type": "code",
   "execution_count": 8,
   "id": "7b3a0cbe",
   "metadata": {
    "execution": {
     "iopub.execute_input": "2021-06-07T20:43:06.073647Z",
     "iopub.status.busy": "2021-06-07T20:43:06.070562Z",
     "iopub.status.idle": "2021-06-07T20:43:06.076989Z",
     "shell.execute_reply": "2021-06-07T20:43:06.076448Z"
    },
    "papermill": {
     "duration": 0.024815,
     "end_time": "2021-06-07T20:43:06.077133",
     "exception": false,
     "start_time": "2021-06-07T20:43:06.052318",
     "status": "completed"
    },
    "tags": []
   },
   "outputs": [
    {
     "data": {
      "text/html": [
       "<div><svg style=\"position: absolute; width: 0; height: 0; overflow: hidden\">\n",
       "<defs>\n",
       "<symbol id=\"icon-database\" viewBox=\"0 0 32 32\">\n",
       "<title>Show/Hide data repr</title>\n",
       "<path d=\"M16 0c-8.837 0-16 2.239-16 5v4c0 2.761 7.163 5 16 5s16-2.239 16-5v-4c0-2.761-7.163-5-16-5z\"></path>\n",
       "<path d=\"M16 17c-8.837 0-16-2.239-16-5v6c0 2.761 7.163 5 16 5s16-2.239 16-5v-6c0 2.761-7.163 5-16 5z\"></path>\n",
       "<path d=\"M16 26c-8.837 0-16-2.239-16-5v6c0 2.761 7.163 5 16 5s16-2.239 16-5v-6c0 2.761-7.163 5-16 5z\"></path>\n",
       "</symbol>\n",
       "<symbol id=\"icon-file-text2\" viewBox=\"0 0 32 32\">\n",
       "<title>Show/Hide attributes</title>\n",
       "<path d=\"M28.681 7.159c-0.694-0.947-1.662-2.053-2.724-3.116s-2.169-2.030-3.116-2.724c-1.612-1.182-2.393-1.319-2.841-1.319h-15.5c-1.378 0-2.5 1.121-2.5 2.5v27c0 1.378 1.122 2.5 2.5 2.5h23c1.378 0 2.5-1.122 2.5-2.5v-19.5c0-0.448-0.137-1.23-1.319-2.841zM24.543 5.457c0.959 0.959 1.712 1.825 2.268 2.543h-4.811v-4.811c0.718 0.556 1.584 1.309 2.543 2.268zM28 29.5c0 0.271-0.229 0.5-0.5 0.5h-23c-0.271 0-0.5-0.229-0.5-0.5v-27c0-0.271 0.229-0.5 0.5-0.5 0 0 15.499-0 15.5 0v7c0 0.552 0.448 1 1 1h7v19.5z\"></path>\n",
       "<path d=\"M23 26h-14c-0.552 0-1-0.448-1-1s0.448-1 1-1h14c0.552 0 1 0.448 1 1s-0.448 1-1 1z\"></path>\n",
       "<path d=\"M23 22h-14c-0.552 0-1-0.448-1-1s0.448-1 1-1h14c0.552 0 1 0.448 1 1s-0.448 1-1 1z\"></path>\n",
       "<path d=\"M23 18h-14c-0.552 0-1-0.448-1-1s0.448-1 1-1h14c0.552 0 1 0.448 1 1s-0.448 1-1 1z\"></path>\n",
       "</symbol>\n",
       "</defs>\n",
       "</svg>\n",
       "<style>/* CSS stylesheet for displaying xarray objects in jupyterlab.\n",
       " *\n",
       " */\n",
       "\n",
       ":root {\n",
       "  --xr-font-color0: var(--jp-content-font-color0, rgba(0, 0, 0, 1));\n",
       "  --xr-font-color2: var(--jp-content-font-color2, rgba(0, 0, 0, 0.54));\n",
       "  --xr-font-color3: var(--jp-content-font-color3, rgba(0, 0, 0, 0.38));\n",
       "  --xr-border-color: var(--jp-border-color2, #e0e0e0);\n",
       "  --xr-disabled-color: var(--jp-layout-color3, #bdbdbd);\n",
       "  --xr-background-color: var(--jp-layout-color0, white);\n",
       "  --xr-background-color-row-even: var(--jp-layout-color1, white);\n",
       "  --xr-background-color-row-odd: var(--jp-layout-color2, #eeeeee);\n",
       "}\n",
       "\n",
       ".xr-wrap {\n",
       "  min-width: 300px;\n",
       "  max-width: 700px;\n",
       "}\n",
       "\n",
       ".xr-header {\n",
       "  padding-top: 6px;\n",
       "  padding-bottom: 6px;\n",
       "  margin-bottom: 4px;\n",
       "  border-bottom: solid 1px var(--xr-border-color);\n",
       "}\n",
       "\n",
       ".xr-header > div,\n",
       ".xr-header > ul {\n",
       "  display: inline;\n",
       "  margin-top: 0;\n",
       "  margin-bottom: 0;\n",
       "}\n",
       "\n",
       ".xr-obj-type,\n",
       ".xr-array-name {\n",
       "  margin-left: 2px;\n",
       "  margin-right: 10px;\n",
       "}\n",
       "\n",
       ".xr-obj-type {\n",
       "  color: var(--xr-font-color2);\n",
       "}\n",
       "\n",
       ".xr-sections {\n",
       "  padding-left: 0 !important;\n",
       "  display: grid;\n",
       "  grid-template-columns: 150px auto auto 1fr 20px 20px;\n",
       "}\n",
       "\n",
       ".xr-section-item {\n",
       "  display: contents;\n",
       "}\n",
       "\n",
       ".xr-section-item input {\n",
       "  display: none;\n",
       "}\n",
       "\n",
       ".xr-section-item input + label {\n",
       "  color: var(--xr-disabled-color);\n",
       "}\n",
       "\n",
       ".xr-section-item input:enabled + label {\n",
       "  cursor: pointer;\n",
       "  color: var(--xr-font-color2);\n",
       "}\n",
       "\n",
       ".xr-section-item input:enabled + label:hover {\n",
       "  color: var(--xr-font-color0);\n",
       "}\n",
       "\n",
       ".xr-section-summary {\n",
       "  grid-column: 1;\n",
       "  color: var(--xr-font-color2);\n",
       "  font-weight: 500;\n",
       "}\n",
       "\n",
       ".xr-section-summary > span {\n",
       "  display: inline-block;\n",
       "  padding-left: 0.5em;\n",
       "}\n",
       "\n",
       ".xr-section-summary-in:disabled + label {\n",
       "  color: var(--xr-font-color2);\n",
       "}\n",
       "\n",
       ".xr-section-summary-in + label:before {\n",
       "  display: inline-block;\n",
       "  content: '►';\n",
       "  font-size: 11px;\n",
       "  width: 15px;\n",
       "  text-align: center;\n",
       "}\n",
       "\n",
       ".xr-section-summary-in:disabled + label:before {\n",
       "  color: var(--xr-disabled-color);\n",
       "}\n",
       "\n",
       ".xr-section-summary-in:checked + label:before {\n",
       "  content: '▼';\n",
       "}\n",
       "\n",
       ".xr-section-summary-in:checked + label > span {\n",
       "  display: none;\n",
       "}\n",
       "\n",
       ".xr-section-summary,\n",
       ".xr-section-inline-details {\n",
       "  padding-top: 4px;\n",
       "  padding-bottom: 4px;\n",
       "}\n",
       "\n",
       ".xr-section-inline-details {\n",
       "  grid-column: 2 / -1;\n",
       "}\n",
       "\n",
       ".xr-section-details {\n",
       "  display: none;\n",
       "  grid-column: 1 / -1;\n",
       "  margin-bottom: 5px;\n",
       "}\n",
       "\n",
       ".xr-section-summary-in:checked ~ .xr-section-details {\n",
       "  display: contents;\n",
       "}\n",
       "\n",
       ".xr-array-wrap {\n",
       "  grid-column: 1 / -1;\n",
       "  display: grid;\n",
       "  grid-template-columns: 20px auto;\n",
       "}\n",
       "\n",
       ".xr-array-wrap > label {\n",
       "  grid-column: 1;\n",
       "  vertical-align: top;\n",
       "}\n",
       "\n",
       ".xr-preview {\n",
       "  color: var(--xr-font-color3);\n",
       "}\n",
       "\n",
       ".xr-array-preview,\n",
       ".xr-array-data {\n",
       "  padding: 0 5px !important;\n",
       "  grid-column: 2;\n",
       "}\n",
       "\n",
       ".xr-array-data,\n",
       ".xr-array-in:checked ~ .xr-array-preview {\n",
       "  display: none;\n",
       "}\n",
       "\n",
       ".xr-array-in:checked ~ .xr-array-data,\n",
       ".xr-array-preview {\n",
       "  display: inline-block;\n",
       "}\n",
       "\n",
       ".xr-dim-list {\n",
       "  display: inline-block !important;\n",
       "  list-style: none;\n",
       "  padding: 0 !important;\n",
       "  margin: 0;\n",
       "}\n",
       "\n",
       ".xr-dim-list li {\n",
       "  display: inline-block;\n",
       "  padding: 0;\n",
       "  margin: 0;\n",
       "}\n",
       "\n",
       ".xr-dim-list:before {\n",
       "  content: '(';\n",
       "}\n",
       "\n",
       ".xr-dim-list:after {\n",
       "  content: ')';\n",
       "}\n",
       "\n",
       ".xr-dim-list li:not(:last-child):after {\n",
       "  content: ',';\n",
       "  padding-right: 5px;\n",
       "}\n",
       "\n",
       ".xr-has-index {\n",
       "  font-weight: bold;\n",
       "}\n",
       "\n",
       ".xr-var-list,\n",
       ".xr-var-item {\n",
       "  display: contents;\n",
       "}\n",
       "\n",
       ".xr-var-item > div,\n",
       ".xr-var-item label,\n",
       ".xr-var-item > .xr-var-name span {\n",
       "  background-color: var(--xr-background-color-row-even);\n",
       "  margin-bottom: 0;\n",
       "}\n",
       "\n",
       ".xr-var-item > .xr-var-name:hover span {\n",
       "  padding-right: 5px;\n",
       "}\n",
       "\n",
       ".xr-var-list > li:nth-child(odd) > div,\n",
       ".xr-var-list > li:nth-child(odd) > label,\n",
       ".xr-var-list > li:nth-child(odd) > .xr-var-name span {\n",
       "  background-color: var(--xr-background-color-row-odd);\n",
       "}\n",
       "\n",
       ".xr-var-name {\n",
       "  grid-column: 1;\n",
       "}\n",
       "\n",
       ".xr-var-dims {\n",
       "  grid-column: 2;\n",
       "}\n",
       "\n",
       ".xr-var-dtype {\n",
       "  grid-column: 3;\n",
       "  text-align: right;\n",
       "  color: var(--xr-font-color2);\n",
       "}\n",
       "\n",
       ".xr-var-preview {\n",
       "  grid-column: 4;\n",
       "}\n",
       "\n",
       ".xr-var-name,\n",
       ".xr-var-dims,\n",
       ".xr-var-dtype,\n",
       ".xr-preview,\n",
       ".xr-attrs dt {\n",
       "  white-space: nowrap;\n",
       "  overflow: hidden;\n",
       "  text-overflow: ellipsis;\n",
       "  padding-right: 10px;\n",
       "}\n",
       "\n",
       ".xr-var-name:hover,\n",
       ".xr-var-dims:hover,\n",
       ".xr-var-dtype:hover,\n",
       ".xr-attrs dt:hover {\n",
       "  overflow: visible;\n",
       "  width: auto;\n",
       "  z-index: 1;\n",
       "}\n",
       "\n",
       ".xr-var-attrs,\n",
       ".xr-var-data {\n",
       "  display: none;\n",
       "  background-color: var(--xr-background-color) !important;\n",
       "  padding-bottom: 5px !important;\n",
       "}\n",
       "\n",
       ".xr-var-attrs-in:checked ~ .xr-var-attrs,\n",
       ".xr-var-data-in:checked ~ .xr-var-data {\n",
       "  display: block;\n",
       "}\n",
       "\n",
       ".xr-var-data > table {\n",
       "  float: right;\n",
       "}\n",
       "\n",
       ".xr-var-name span,\n",
       ".xr-var-data,\n",
       ".xr-attrs {\n",
       "  padding-left: 25px !important;\n",
       "}\n",
       "\n",
       ".xr-attrs,\n",
       ".xr-var-attrs,\n",
       ".xr-var-data {\n",
       "  grid-column: 1 / -1;\n",
       "}\n",
       "\n",
       "dl.xr-attrs {\n",
       "  padding: 0;\n",
       "  margin: 0;\n",
       "  display: grid;\n",
       "  grid-template-columns: 125px auto;\n",
       "}\n",
       "\n",
       ".xr-attrs dt, dd {\n",
       "  padding: 0;\n",
       "  margin: 0;\n",
       "  float: left;\n",
       "  padding-right: 10px;\n",
       "  width: auto;\n",
       "}\n",
       "\n",
       ".xr-attrs dt {\n",
       "  font-weight: normal;\n",
       "  grid-column: 1;\n",
       "}\n",
       "\n",
       ".xr-attrs dt:hover span {\n",
       "  display: inline-block;\n",
       "  background: var(--xr-background-color);\n",
       "  padding-right: 10px;\n",
       "}\n",
       "\n",
       ".xr-attrs dd {\n",
       "  grid-column: 2;\n",
       "  white-space: pre-wrap;\n",
       "  word-break: break-all;\n",
       "}\n",
       "\n",
       ".xr-icon-database,\n",
       ".xr-icon-file-text2 {\n",
       "  display: inline-block;\n",
       "  vertical-align: middle;\n",
       "  width: 1em;\n",
       "  height: 1.5em !important;\n",
       "  stroke-width: 0;\n",
       "  stroke: currentColor;\n",
       "  fill: currentColor;\n",
       "}\n",
       "</style><div class='xr-wrap'><div class='xr-header'><div class='xr-obj-type'>xarray.Dataset</div></div><ul class='xr-sections'><li class='xr-section-item'><input id='section-8903aefa-1f48-4418-98d6-036d9a4a8c67' class='xr-section-summary-in' type='checkbox' disabled ><label for='section-8903aefa-1f48-4418-98d6-036d9a4a8c67' class='xr-section-summary'  title='Expand/collapse section'>Dimensions:</label><div class='xr-section-inline-details'><ul class='xr-dim-list'><li><span class='xr-has-index'>alt</span>: 26</li><li><span class='xr-has-index'>time</span>: 178992</li></ul></div><div class='xr-section-details'></div></li><li class='xr-section-item'><input id='section-d08358ea-0516-45c8-ad23-e732569b63df' class='xr-section-summary-in' type='checkbox'  checked><label for='section-d08358ea-0516-45c8-ad23-e732569b63df' class='xr-section-summary' >Coordinates: <span>(3)</span></label><div class='xr-section-inline-details'></div><div class='xr-section-details'><ul class='xr-var-list'><li class='xr-var-item'><div class='xr-var-name'><span>month</span></div><div class='xr-var-dims'>(time)</div><div class='xr-var-dtype'>int64</div><div class='xr-var-preview xr-preview'>...</div><input id='attrs-29297170-6080-4e4f-9b71-1a140ba33d15' class='xr-var-attrs-in' type='checkbox' disabled><label for='attrs-29297170-6080-4e4f-9b71-1a140ba33d15' title='Show/Hide attributes'><svg class='icon xr-icon-file-text2'><use xlink:href='#icon-file-text2'></use></svg></label><input id='data-4e8dbb66-9364-4156-9f65-4dcb52b9853f' class='xr-var-data-in' type='checkbox'><label for='data-4e8dbb66-9364-4156-9f65-4dcb52b9853f' title='Show/Hide data repr'><svg class='icon xr-icon-database'><use xlink:href='#icon-database'></use></svg></label><div class='xr-var-attrs'><dl class='xr-attrs'></dl></div><pre class='xr-var-data'>[178992 values with dtype=int64]</pre></li><li class='xr-var-item'><div class='xr-var-name'><span class='xr-has-index'>alt</span></div><div class='xr-var-dims'>(alt)</div><div class='xr-var-dtype'>int64</div><div class='xr-var-preview xr-preview'>70 72 74 76 78 ... 114 116 118 120</div><input id='attrs-be9a63fa-75a3-4cf1-8578-e109b164b636' class='xr-var-attrs-in' type='checkbox' ><label for='attrs-be9a63fa-75a3-4cf1-8578-e109b164b636' title='Show/Hide attributes'><svg class='icon xr-icon-file-text2'><use xlink:href='#icon-file-text2'></use></svg></label><input id='data-20e5ed0c-2af2-44ce-ab00-3ee2fd20035c' class='xr-var-data-in' type='checkbox'><label for='data-20e5ed0c-2af2-44ce-ab00-3ee2fd20035c' title='Show/Hide data repr'><svg class='icon xr-icon-database'><use xlink:href='#icon-database'></use></svg></label><div class='xr-var-attrs'><dl class='xr-attrs'><dt><span>units :</span></dt><dd>km</dd></dl></div><pre class='xr-var-data'>array([ 70,  72,  74,  76,  78,  80,  82,  84,  86,  88,  90,  92,  94,  96,\n",
       "        98, 100, 102, 104, 106, 108, 110, 112, 114, 116, 118, 120])</pre></li><li class='xr-var-item'><div class='xr-var-name'><span class='xr-has-index'>time</span></div><div class='xr-var-dims'>(time)</div><div class='xr-var-dtype'>datetime64[ns]</div><div class='xr-var-preview xr-preview'>1999-08-01 ... 2019-12-31T23:00:00</div><input id='attrs-82041cfb-190b-43cf-a7c4-6444d51bbdcc' class='xr-var-attrs-in' type='checkbox' disabled><label for='attrs-82041cfb-190b-43cf-a7c4-6444d51bbdcc' title='Show/Hide attributes'><svg class='icon xr-icon-file-text2'><use xlink:href='#icon-file-text2'></use></svg></label><input id='data-32c9609e-b608-4a97-94fc-1b77c0c65573' class='xr-var-data-in' type='checkbox'><label for='data-32c9609e-b608-4a97-94fc-1b77c0c65573' title='Show/Hide data repr'><svg class='icon xr-icon-database'><use xlink:href='#icon-database'></use></svg></label><div class='xr-var-attrs'><dl class='xr-attrs'></dl></div><pre class='xr-var-data'>array([&#x27;1999-08-01T00:00:00.000000000&#x27;, &#x27;1999-08-01T01:00:00.000000000&#x27;,\n",
       "       &#x27;1999-08-01T02:00:00.000000000&#x27;, ..., &#x27;2019-12-31T21:00:00.000000000&#x27;,\n",
       "       &#x27;2019-12-31T22:00:00.000000000&#x27;, &#x27;2019-12-31T23:00:00.000000000&#x27;],\n",
       "      dtype=&#x27;datetime64[ns]&#x27;)</pre></li></ul></div></li><li class='xr-section-item'><input id='section-b662ff7d-8886-43b5-afdc-f4d42e9c1e1c' class='xr-section-summary-in' type='checkbox'  checked><label for='section-b662ff7d-8886-43b5-afdc-f4d42e9c1e1c' class='xr-section-summary' >Data variables: <span>(1)</span></label><div class='xr-section-inline-details'></div><div class='xr-section-details'><ul class='xr-var-list'><li class='xr-var-item'><div class='xr-var-name'><span>GWD</span></div><div class='xr-var-dims'>(time, alt)</div><div class='xr-var-dtype'>float64</div><div class='xr-var-preview xr-preview'>...</div><input id='attrs-654891de-a816-4612-bdef-8bb64131c2bc' class='xr-var-attrs-in' type='checkbox' ><label for='attrs-654891de-a816-4612-bdef-8bb64131c2bc' title='Show/Hide attributes'><svg class='icon xr-icon-file-text2'><use xlink:href='#icon-file-text2'></use></svg></label><input id='data-b0cffb10-2781-40b1-ac53-3afacc1f46c6' class='xr-var-data-in' type='checkbox'><label for='data-b0cffb10-2781-40b1-ac53-3afacc1f46c6' title='Show/Hide data repr'><svg class='icon xr-icon-database'><use xlink:href='#icon-database'></use></svg></label><div class='xr-var-attrs'><dl class='xr-attrs'><dt><span>units :</span></dt><dd>m/s/day</dd><dt><span>long_name :</span></dt><dd>zonal GWF from fluxes</dd></dl></div><pre class='xr-var-data'>[4653792 values with dtype=float64]</pre></li></ul></div></li><li class='xr-section-item'><input id='section-9a654795-0562-4674-a62f-6c8a2b751375' class='xr-section-summary-in' type='checkbox'  checked><label for='section-9a654795-0562-4674-a62f-6c8a2b751375' class='xr-section-summary' >Attributes: <span>(2)</span></label><div class='xr-section-inline-details'></div><div class='xr-section-details'><dl class='xr-attrs'><dt><span>history :</span></dt><dd>Tue Jun  1 17:49:59 2021: ncrename -v __xarray_dataarray_variable__,GWD GWD_1999-08-01_2019-12-01_SES.nc</dd><dt><span>NCO :</span></dt><dd>netCDF Operators version 4.8.1 (Homepage = http://nco.sf.net, Code = http://github.com/nco/nco)</dd></dl></div></li></ul></div></div>"
      ],
      "text/plain": [
       "<xarray.Dataset>\n",
       "Dimensions:  (alt: 26, time: 178992)\n",
       "Coordinates:\n",
       "    month    (time) int64 ...\n",
       "  * alt      (alt) int64 70 72 74 76 78 80 82 84 ... 108 110 112 114 116 118 120\n",
       "  * time     (time) datetime64[ns] 1999-08-01 ... 2019-12-31T23:00:00\n",
       "Data variables:\n",
       "    GWD      (time, alt) float64 ...\n",
       "Attributes:\n",
       "    history:  Tue Jun  1 17:49:59 2021: ncrename -v __xarray_dataarray_variab...\n",
       "    NCO:      netCDF Operators version 4.8.1 (Homepage = http://nco.sf.net, C..."
      ]
     },
     "execution_count": 8,
     "metadata": {},
     "output_type": "execute_result"
    }
   ],
   "source": [
    "ds"
   ]
  },
  {
   "cell_type": "code",
   "execution_count": 9,
   "id": "0deb369b",
   "metadata": {
    "execution": {
     "iopub.execute_input": "2021-06-07T20:43:06.110059Z",
     "iopub.status.busy": "2021-06-07T20:43:06.109555Z",
     "iopub.status.idle": "2021-06-07T20:43:22.773541Z",
     "shell.execute_reply": "2021-06-07T20:43:22.772388Z"
    },
    "papermill": {
     "duration": 16.681522,
     "end_time": "2021-06-07T20:43:22.773917",
     "exception": false,
     "start_time": "2021-06-07T20:43:06.092395",
     "status": "completed"
    },
    "tags": []
   },
   "outputs": [],
   "source": [
    "gwd = ds['GWD'] \n",
    "\n",
    "gwd_anomalie = anomalie('day',gwd)\n",
    "\n",
    "sea_gwd = sea(40,station,gwd)\n",
    "sea_gwd_anomalie = sea(40,'Leipzig',gwd_anomalie)"
   ]
  },
  {
   "cell_type": "code",
   "execution_count": 10,
   "id": "ff7a6abe",
   "metadata": {
    "execution": {
     "iopub.execute_input": "2021-06-07T20:43:22.808306Z",
     "iopub.status.busy": "2021-06-07T20:43:22.807690Z",
     "iopub.status.idle": "2021-06-07T20:43:22.990431Z",
     "shell.execute_reply": "2021-06-07T20:43:22.991473Z"
    },
    "papermill": {
     "duration": 0.200648,
     "end_time": "2021-06-07T20:43:22.991774",
     "exception": false,
     "start_time": "2021-06-07T20:43:22.791126",
     "status": "completed"
    },
    "tags": []
   },
   "outputs": [
    {
     "data": {
      "text/plain": [
       "<matplotlib.collections.QuadMesh at 0x7f1aaf0e12e8>"
      ]
     },
     "execution_count": 10,
     "metadata": {},
     "output_type": "execute_result"
    },
    {
     "data": {
      "image/png": "[encoded data removed]",
      "text/plain": [
       "<Figure size 432x288 with 2 Axes>"
      ]
     },
     "metadata": {
      "needs_background": "light"
     },
     "output_type": "display_data"
    }
   ],
   "source": [
    "sea_gwd.sel(alt = slice(70,110)).plot(x='days',robust=True)"
   ]
  },
  {
   "cell_type": "code",
   "execution_count": null,
   "id": "6e2915f0",
   "metadata": {
    "papermill": {
     "duration": 0.012963,
     "end_time": "2021-06-07T20:43:23.017994",
     "exception": false,
     "start_time": "2021-06-07T20:43:23.005031",
     "status": "completed"
    },
    "tags": []
   },
   "outputs": [],
   "source": []
  }
 ],
 "metadata": {
  "celltoolbar": "Tags",
  "kernelspec": {
   "display_name": "Python 3",
   "language": "python",
   "name": "python3"
  },
  "language_info": {
   "codemirror_mode": {
    "name": "ipython",
    "version": 3
   },
   "file_extension": ".py",
   "mimetype": "text/x-python",
   "name": "python",
   "nbconvert_exporter": "python",
   "pygments_lexer": "ipython3",
   "version": "3.6.10"
  },
  "papermill": {
   "default_parameters": {},
   "duration": 19.637191,
   "end_time": "2021-06-07T20:43:23.441666",
   "environment_variables": {},
   "exception": null,
   "input_path": "GWD_analysis.ipynb",
   "output_path": "GWD_analysis_Andenes.ipynb",
   "parameters": {
    "station": "Andenes"
   },
   "start_time": "2021-06-07T20:43:03.804475",
   "version": "2.2.0"
  }
 },
 "nbformat": 4,
 "nbformat_minor": 5
}