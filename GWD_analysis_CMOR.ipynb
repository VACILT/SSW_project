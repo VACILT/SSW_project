{
 "cells": [
  {
   "cell_type": "markdown",
   "id": "eca44042",
   "metadata": {
    "papermill": {
     "duration": 0.017628,
     "end_time": "2021-06-07T20:43:04.753288",
     "exception": false,
     "start_time": "2021-06-07T20:43:04.735660",
     "status": "completed"
    },
    "tags": []
   },
   "source": [
    "# Analysis of the Gravity wave drag"
   ]
  },
  {
   "cell_type": "code",
   "execution_count": 1,
   "id": "d21abe05",
   "metadata": {
    "execution": {
     "iopub.execute_input": "2021-06-07T20:43:04.772775Z",
     "iopub.status.busy": "2021-06-07T20:43:04.772334Z",
     "iopub.status.idle": "2021-06-07T20:43:05.816182Z",
     "shell.execute_reply": "2021-06-07T20:43:05.817100Z"
    },
    "papermill": {
     "duration": 1.058047,
     "end_time": "2021-06-07T20:43:05.817437",
     "exception": false,
     "start_time": "2021-06-07T20:43:04.759390",
     "status": "completed"
    },
    "tags": []
   },
   "outputs": [],
   "source": [
    "from netCDF4 import Dataset, num2date\n",
    "import xarray as xr\n",
    "import xarray.ufuncs as xrf\n",
    "import numpy as np\n",
    "import matplotlib.pyplot as plt\n",
    "import pandas as pd\n",
    "import glob"
   ]
  },
  {
   "cell_type": "markdown",
   "id": "bc349ecf",
   "metadata": {
    "papermill": {
     "duration": 0.005875,
     "end_time": "2021-06-07T20:43:05.837127",
     "exception": false,
     "start_time": "2021-06-07T20:43:05.831252",
     "status": "completed"
    },
    "tags": []
   },
   "source": [
    "## Definitions"
   ]
  },
  {
   "cell_type": "code",
   "execution_count": 2,
   "id": "cb9688c1",
   "metadata": {
    "execution": {
     "iopub.execute_input": "2021-06-07T20:43:05.855061Z",
     "iopub.status.busy": "2021-06-07T20:43:05.854640Z",
     "iopub.status.idle": "2021-06-07T20:43:05.856553Z",
     "shell.execute_reply": "2021-06-07T20:43:05.856857Z"
    },
    "papermill": {
     "duration": 0.013987,
     "end_time": "2021-06-07T20:43:05.856956",
     "exception": false,
     "start_time": "2021-06-07T20:43:05.842969",
     "status": "completed"
    },
    "tags": []
   },
   "outputs": [],
   "source": [
    "def anomalie(step,var):\n",
    "    string = \"time.\"+step   \n",
    "    climatology = var.groupby(string).mean(\"time\")\n",
    "    anomalies = var.groupby(string) - climatology\n",
    "    \n",
    "    return anomalies"
   ]
  },
  {
   "cell_type": "code",
   "execution_count": 3,
   "id": "374d5895",
   "metadata": {
    "execution": {
     "iopub.execute_input": "2021-06-07T20:43:05.879629Z",
     "iopub.status.busy": "2021-06-07T20:43:05.879140Z",
     "iopub.status.idle": "2021-06-07T20:43:05.881062Z",
     "shell.execute_reply": "2021-06-07T20:43:05.880658Z"
    },
    "papermill": {
     "duration": 0.018047,
     "end_time": "2021-06-07T20:43:05.881165",
     "exception": false,
     "start_time": "2021-06-07T20:43:05.863118",
     "status": "completed"
    },
    "tags": []
   },
   "outputs": [],
   "source": [
    "def sea(days_period,station,var):\n",
    "    df_dates = pd.read_csv('/home/hochatmstud/bene/dates/without_final_warmings/ssw_dates_without_final_warmings_'+station+'.csv') # you can load SSWs from a csv file like attached\n",
    "    dates = df_dates.set_index('BeginDate')\n",
    "\n",
    "    xa_ls = []\n",
    "    max_lag = days_period\n",
    "    for il, days in enumerate(range(-max_lag,max_lag+1)):  \n",
    "        sel_dates = pd.to_datetime(dates.index) + pd.Timedelta(str(days)+' days')\n",
    "        mask = np.in1d(var.time.dt.floor('1D'),sel_dates)\n",
    "        comp_m = var.sel(time = mask).mean('time')\n",
    "        xa_ls.append(comp_m)\n",
    "   \n",
    "    xa_comp = xr.concat(xa_ls, dim = 'days')\n",
    "    xa_comp['days'] = range(-max_lag, max_lag+1)\n",
    "\n",
    "    # print(xa_comp)\n",
    "    return xa_comp"
   ]
  },
  {
   "cell_type": "markdown",
   "id": "9afbcb68",
   "metadata": {
    "papermill": {
     "duration": 0.006478,
     "end_time": "2021-06-07T20:43:05.895401",
     "exception": false,
     "start_time": "2021-06-07T20:43:05.888923",
     "status": "completed"
    },
    "tags": []
   },
   "source": [
    "## Analysis"
   ]
  },
  {
   "cell_type": "code",
   "execution_count": 4,
   "id": "7d8ad0fe",
   "metadata": {
    "execution": {
     "iopub.execute_input": "2021-06-07T20:43:05.911516Z",
     "iopub.status.busy": "2021-06-07T20:43:05.911147Z",
     "iopub.status.idle": "2021-06-07T20:43:05.912982Z",
     "shell.execute_reply": "2021-06-07T20:43:05.913304Z"
    },
    "papermill": {
     "duration": 0.011639,
     "end_time": "2021-06-07T20:43:05.913399",
     "exception": false,
     "start_time": "2021-06-07T20:43:05.901760",
     "status": "completed"
    },
    "tags": [
     "parameters"
    ]
   },
   "outputs": [],
   "source": [
    "station = 'Leipzig'"
   ]
  },
  {
   "cell_type": "code",
   "execution_count": 5,
   "id": "f300fe43",
   "metadata": {
    "execution": {
     "iopub.execute_input": "2021-06-07T20:43:05.930379Z",
     "iopub.status.busy": "2021-06-07T20:43:05.929983Z",
     "iopub.status.idle": "2021-06-07T20:43:05.932087Z",
     "shell.execute_reply": "2021-06-07T20:43:05.932413Z"
    },
    "papermill": {
     "duration": 0.012708,
     "end_time": "2021-06-07T20:43:05.932519",
     "exception": false,
     "start_time": "2021-06-07T20:43:05.919811",
     "status": "completed"
    },
    "tags": [
     "injected-parameters"
    ]
   },
   "outputs": [],
   "source": [
    "# Parameters\n",
    "station = \"CMOR\"\n"
   ]
  },
  {
   "cell_type": "code",
   "execution_count": 6,
   "id": "2a72c17a",
   "metadata": {
    "execution": {
     "iopub.execute_input": "2021-06-07T20:43:05.952769Z",
     "iopub.status.busy": "2021-06-07T20:43:05.952355Z",
     "iopub.status.idle": "2021-06-07T20:43:05.954044Z",
     "shell.execute_reply": "2021-06-07T20:43:05.954366Z"
    },
    "papermill": {
     "duration": 0.015407,
     "end_time": "2021-06-07T20:43:05.954468",
     "exception": false,
     "start_time": "2021-06-07T20:43:05.939061",
     "status": "completed"
    },
    "tags": []
   },
   "outputs": [],
   "source": [
    "if station == 'Leipzig':\n",
    "    dir = '/home/gemeinsam_tmp/UA_students/data/PW_GW_analysis/GWD_2004-08-01_2020-12-01_Col.nc'\n",
    "elif station == 'CMOR':\n",
    "    dir = '/home/gemeinsam_tmp/UA_students/data/PW_GW_analysis/GWD_2002-01-01_2020-11-01_CMA.nc'\n",
    "elif station == 'Esrange':\n",
    "    dir = '/home/gemeinsam_tmp/UA_students/data/PW_GW_analysis/GWD_1999-08-01_2021-03-01_Kir.nc'\n",
    "elif station == 'Sodankyla':\n",
    "    dir = '/home/gemeinsam_tmp/UA_students/data/PW_GW_analysis/GWD_2008-10-01_2021-03-01_Sod.nc'\n",
    "elif station == 'Davis':\n",
    "    dir = '/home/gemeinsam_tmp/UA_students/data/PW_GW_analysis/GWD_2005-01-01_2020-12-01_Dav.nc'\n",
    "elif station == 'RioGrande':\n",
    "    dir = '/home/gemeinsam_tmp/UA_students/data/PW_GW_analysis/GWD_2008-02-01_2021-01-01_Rio.nc'\n",
    "elif station == 'Andenes':\n",
    "    dir = '/home/gemeinsam_tmp/UA_students/data/PW_GW_analysis/GWD_1999-08-01_2019-12-01_SES.nc'"
   ]
  },
  {
   "cell_type": "code",
   "execution_count": 7,
   "id": "42caf289",
   "metadata": {
    "execution": {
     "iopub.execute_input": "2021-06-07T20:43:05.974297Z",
     "iopub.status.busy": "2021-06-07T20:43:05.973865Z",
     "iopub.status.idle": "2021-06-07T20:43:05.989618Z",
     "shell.execute_reply": "2021-06-07T20:43:05.989060Z"
    },
    "papermill": {
     "duration": 0.028983,
     "end_time": "2021-06-07T20:43:05.989770",
     "exception": false,
     "start_time": "2021-06-07T20:43:05.960787",
     "status": "completed"
    },
    "tags": []
   },
   "outputs": [],
   "source": [
    "ds=xr.open_dataset(dir)"
   ]
  },
  {
   "cell_type": "code",
   "execution_count": 8,
   "id": "7b3a0cbe",
   "metadata": {
    "execution": {
     "iopub.execute_input": "2021-06-07T20:43:06.024018Z",
     "iopub.status.busy": "2021-06-07T20:43:06.019221Z",
     "iopub.status.idle": "2021-06-07T20:43:06.027458Z",
     "shell.execute_reply": "2021-06-07T20:43:06.026953Z"
    },
    "papermill": {
     "duration": 0.028173,
     "end_time": "2021-06-07T20:43:06.027591",
     "exception": false,
     "start_time": "2021-06-07T20:43:05.999418",
     "status": "completed"
    },
    "tags": []
   },
   "outputs": [
    {
     "data": {
      "text/html": [
       "<div><svg style=\"position: absolute; width: 0; height: 0; overflow: hidden\">\n",
       "<defs>\n",
       "<symbol id=\"icon-database\" viewBox=\"0 0 32 32\">\n",
       "<title>Show/Hide data repr</title>\n",
       "<path d=\"M16 0c-8.837 0-16 2.239-16 5v4c0 2.761 7.163 5 16 5s16-2.239 16-5v-4c0-2.761-7.163-5-16-5z\"></path>\n",
       "<path d=\"M16 17c-8.837 0-16-2.239-16-5v6c0 2.761 7.163 5 16 5s16-2.239 16-5v-6c0 2.761-7.163 5-16 5z\"></path>\n",
       "<path d=\"M16 26c-8.837 0-16-2.239-16-5v6c0 2.761 7.163 5 16 5s16-2.239 16-5v-6c0 2.761-7.163 5-16 5z\"></path>\n",
       "</symbol>\n",
       "<symbol id=\"icon-file-text2\" viewBox=\"0 0 32 32\">\n",
       "<title>Show/Hide attributes</title>\n",
       "<path d=\"M28.681 7.159c-0.694-0.947-1.662-2.053-2.724-3.116s-2.169-2.030-3.116-2.724c-1.612-1.182-2.393-1.319-2.841-1.319h-15.5c-1.378 0-2.5 1.121-2.5 2.5v27c0 1.378 1.122 2.5 2.5 2.5h23c1.378 0 2.5-1.122 2.5-2.5v-19.5c0-0.448-0.137-1.23-1.319-2.841zM24.543 5.457c0.959 0.959 1.712 1.825 2.268 2.543h-4.811v-4.811c0.718 0.556 1.584 1.309 2.543 2.268zM28 29.5c0 0.271-0.229 0.5-0.5 0.5h-23c-0.271 0-0.5-0.229-0.5-0.5v-27c0-0.271 0.229-0.5 0.5-0.5 0 0 15.499-0 15.5 0v7c0 0.552 0.448 1 1 1h7v19.5z\"></path>\n",
       "<path d=\"M23 26h-14c-0.552 0-1-0.448-1-1s0.448-1 1-1h14c0.552 0 1 0.448 1 1s-0.448 1-1 1z\"></path>\n",
       "<path d=\"M23 22h-14c-0.552 0-1-0.448-1-1s0.448-1 1-1h14c0.552 0 1 0.448 1 1s-0.448 1-1 1z\"></path>\n",
       "<path d=\"M23 18h-14c-0.552 0-1-0.448-1-1s0.448-1 1-1h14c0.552 0 1 0.448 1 1s-0.448 1-1 1z\"></path>\n",
       "</symbol>\n",
       "</defs>\n",
       "</svg>\n",
       "<style>/* CSS stylesheet for displaying xarray objects in jupyterlab.\n",
       " *\n",
       " */\n",
       "\n",
       ":root {\n",
       "  --xr-font-color0: var(--jp-content-font-color0, rgba(0, 0, 0, 1));\n",
       "  --xr-font-color2: var(--jp-content-font-color2, rgba(0, 0, 0, 0.54));\n",
       "  --xr-font-color3: var(--jp-content-font-color3, rgba(0, 0, 0, 0.38));\n",
       "  --xr-border-color: var(--jp-border-color2, #e0e0e0);\n",
       "  --xr-disabled-color: var(--jp-layout-color3, #bdbdbd);\n",
       "  --xr-background-color: var(--jp-layout-color0, white);\n",
       "  --xr-background-color-row-even: var(--jp-layout-color1, white);\n",
       "  --xr-background-color-row-odd: var(--jp-layout-color2, #eeeeee);\n",
       "}\n",
       "\n",
       ".xr-wrap {\n",
       "  min-width: 300px;\n",
       "  max-width: 700px;\n",
       "}\n",
       "\n",
       ".xr-header {\n",
       "  padding-top: 6px;\n",
       "  padding-bottom: 6px;\n",
       "  margin-bottom: 4px;\n",
       "  border-bottom: solid 1px var(--xr-border-color);\n",
       "}\n",
       "\n",
       ".xr-header > div,\n",
       ".xr-header > ul {\n",
       "  display: inline;\n",
       "  margin-top: 0;\n",
       "  margin-bottom: 0;\n",
       "}\n",
       "\n",
       ".xr-obj-type,\n",
       ".xr-array-name {\n",
       "  margin-left: 2px;\n",
       "  margin-right: 10px;\n",
       "}\n",
       "\n",
       ".xr-obj-type {\n",
       "  color: var(--xr-font-color2);\n",
       "}\n",
       "\n",
       ".xr-sections {\n",
       "  padding-left: 0 !important;\n",
       "  display: grid;\n",
       "  grid-template-columns: 150px auto auto 1fr 20px 20px;\n",
       "}\n",
       "\n",
       ".xr-section-item {\n",
       "  display: contents;\n",
       "}\n",
       "\n",
       ".xr-section-item input {\n",
       "  display: none;\n",
       "}\n",
       "\n",
       ".xr-section-item input + label {\n",
       "  color: var(--xr-disabled-color);\n",
       "}\n",
       "\n",
       ".xr-section-item input:enabled + label {\n",
       "  cursor: pointer;\n",
       "  color: var(--xr-font-color2);\n",
       "}\n",
       "\n",
       ".xr-section-item input:enabled + label:hover {\n",
       "  color: var(--xr-font-color0);\n",
       "}\n",
       "\n",
       ".xr-section-summary {\n",
       "  grid-column: 1;\n",
       "  color: var(--xr-font-color2);\n",
       "  font-weight: 500;\n",
       "}\n",
       "\n",
       ".xr-section-summary > span {\n",
       "  display: inline-block;\n",
       "  padding-left: 0.5em;\n",
       "}\n",
       "\n",
       ".xr-section-summary-in:disabled + label {\n",
       "  color: var(--xr-font-color2);\n",
       "}\n",
       "\n",
       ".xr-section-summary-in + label:before {\n",
       "  display: inline-block;\n",
       "  content: '►';\n",
       "  font-size: 11px;\n",
       "  width: 15px;\n",
       "  text-align: center;\n",
       "}\n",
       "\n",
       ".xr-section-summary-in:disabled + label:before {\n",
       "  color: var(--xr-disabled-color);\n",
       "}\n",
       "\n",
       ".xr-section-summary-in:checked + label:before {\n",
       "  content: '▼';\n",
       "}\n",
       "\n",
       ".xr-section-summary-in:checked + label > span {\n",
       "  display: none;\n",
       "}\n",
       "\n",
       ".xr-section-summary,\n",
       ".xr-section-inline-details {\n",
       "  padding-top: 4px;\n",
       "  padding-bottom: 4px;\n",
       "}\n",
       "\n",
       ".xr-section-inline-details {\n",
       "  grid-column: 2 / -1;\n",
       "}\n",
       "\n",
       ".xr-section-details {\n",
       "  display: none;\n",
       "  grid-column: 1 / -1;\n",
       "  margin-bottom: 5px;\n",
       "}\n",
       "\n",
       ".xr-section-summary-in:checked ~ .xr-section-details {\n",
       "  display: contents;\n",
       "}\n",
       "\n",
       ".xr-array-wrap {\n",
       "  grid-column: 1 / -1;\n",
       "  display: grid;\n",
       "  grid-template-columns: 20px auto;\n",
       "}\n",
       "\n",
       ".xr-array-wrap > label {\n",
       "  grid-column: 1;\n",
       "  vertical-align: top;\n",
       "}\n",
       "\n",
       ".xr-preview {\n",
       "  color: var(--xr-font-color3);\n",
       "}\n",
       "\n",
       ".xr-array-preview,\n",
       ".xr-array-data {\n",
       "  padding: 0 5px !important;\n",
       "  grid-column: 2;\n",
       "}\n",
       "\n",
       ".xr-array-data,\n",
       ".xr-array-in:checked ~ .xr-array-preview {\n",
       "  display: none;\n",
       "}\n",
       "\n",
       ".xr-array-in:checked ~ .xr-array-data,\n",
       ".xr-array-preview {\n",
       "  display: inline-block;\n",
       "}\n",
       "\n",
       ".xr-dim-list {\n",
       "  display: inline-block !important;\n",
       "  list-style: none;\n",
       "  padding: 0 !important;\n",
       "  margin: 0;\n",
       "}\n",
       "\n",
       ".xr-dim-list li {\n",
       "  display: inline-block;\n",
       "  padding: 0;\n",
       "  margin: 0;\n",
       "}\n",
       "\n",
       ".xr-dim-list:before {\n",
       "  content: '(';\n",
       "}\n",
       "\n",
       ".xr-dim-list:after {\n",
       "  content: ')';\n",
       "}\n",
       "\n",
       ".xr-dim-list li:not(:last-child):after {\n",
       "  content: ',';\n",
       "  padding-right: 5px;\n",
       "}\n",
       "\n",
       ".xr-has-index {\n",
       "  font-weight: bold;\n",
       "}\n",
       "\n",
       ".xr-var-list,\n",
       ".xr-var-item {\n",
       "  display: contents;\n",
       "}\n",
       "\n",
       ".xr-var-item > div,\n",
       ".xr-var-item label,\n",
       ".xr-var-item > .xr-var-name span {\n",
       "  background-color: var(--xr-background-color-row-even);\n",
       "  margin-bottom: 0;\n",
       "}\n",
       "\n",
       ".xr-var-item > .xr-var-name:hover span {\n",
       "  padding-right: 5px;\n",
       "}\n",
       "\n",
       ".xr-var-list > li:nth-child(odd) > div,\n",
       ".xr-var-list > li:nth-child(odd) > label,\n",
       ".xr-var-list > li:nth-child(odd) > .xr-var-name span {\n",
       "  background-color: var(--xr-background-color-row-odd);\n",
       "}\n",
       "\n",
       ".xr-var-name {\n",
       "  grid-column: 1;\n",
       "}\n",
       "\n",
       ".xr-var-dims {\n",
       "  grid-column: 2;\n",
       "}\n",
       "\n",
       ".xr-var-dtype {\n",
       "  grid-column: 3;\n",
       "  text-align: right;\n",
       "  color: var(--xr-font-color2);\n",
       "}\n",
       "\n",
       ".xr-var-preview {\n",
       "  grid-column: 4;\n",
       "}\n",
       "\n",
       ".xr-var-name,\n",
       ".xr-var-dims,\n",
       ".xr-var-dtype,\n",
       ".xr-preview,\n",
       ".xr-attrs dt {\n",
       "  white-space: nowrap;\n",
       "  overflow: hidden;\n",
       "  text-overflow: ellipsis;\n",
       "  padding-right: 10px;\n",
       "}\n",
       "\n",
       ".xr-var-name:hover,\n",
       ".xr-var-dims:hover,\n",
       ".xr-var-dtype:hover,\n",
       ".xr-attrs dt:hover {\n",
       "  overflow: visible;\n",
       "  width: auto;\n",
       "  z-index: 1;\n",
       "}\n",
       "\n",
       ".xr-var-attrs,\n",
       ".xr-var-data {\n",
       "  display: none;\n",
       "  background-color: var(--xr-background-color) !important;\n",
       "  padding-bottom: 5px !important;\n",
       "}\n",
       "\n",
       ".xr-var-attrs-in:checked ~ .xr-var-attrs,\n",
       ".xr-var-data-in:checked ~ .xr-var-data {\n",
       "  display: block;\n",
       "}\n",
       "\n",
       ".xr-var-data > table {\n",
       "  float: right;\n",
       "}\n",
       "\n",
       ".xr-var-name span,\n",
       ".xr-var-data,\n",
       ".xr-attrs {\n",
       "  padding-left: 25px !important;\n",
       "}\n",
       "\n",
       ".xr-attrs,\n",
       ".xr-var-attrs,\n",
       ".xr-var-data {\n",
       "  grid-column: 1 / -1;\n",
       "}\n",
       "\n",
       "dl.xr-attrs {\n",
       "  padding: 0;\n",
       "  margin: 0;\n",
       "  display: grid;\n",
       "  grid-template-columns: 125px auto;\n",
       "}\n",
       "\n",
       ".xr-attrs dt, dd {\n",
       "  padding: 0;\n",
       "  margin: 0;\n",
       "  float: left;\n",
       "  padding-right: 10px;\n",
       "  width: auto;\n",
       "}\n",
       "\n",
       ".xr-attrs dt {\n",
       "  font-weight: normal;\n",
       "  grid-column: 1;\n",
       "}\n",
       "\n",
       ".xr-attrs dt:hover span {\n",
       "  display: inline-block;\n",
       "  background: var(--xr-background-color);\n",
       "  padding-right: 10px;\n",
       "}\n",
       "\n",
       ".xr-attrs dd {\n",
       "  grid-column: 2;\n",
       "  white-space: pre-wrap;\n",
       "  word-break: break-all;\n",
       "}\n",
       "\n",
       ".xr-icon-database,\n",
       ".xr-icon-file-text2 {\n",
       "  display: inline-block;\n",
       "  vertical-align: middle;\n",
       "  width: 1em;\n",
       "  height: 1.5em !important;\n",
       "  stroke-width: 0;\n",
       "  stroke: currentColor;\n",
       "  fill: currentColor;\n",
       "}\n",
       "</style><div class='xr-wrap'><div class='xr-header'><div class='xr-obj-type'>xarray.Dataset</div></div><ul class='xr-sections'><li class='xr-section-item'><input id='section-6284ad43-439d-42e7-8c47-031055c2becb' class='xr-section-summary-in' type='checkbox' disabled ><label for='section-6284ad43-439d-42e7-8c47-031055c2becb' class='xr-section-summary'  title='Expand/collapse section'>Dimensions:</label><div class='xr-section-inline-details'><ul class='xr-dim-list'><li><span class='xr-has-index'>alt</span>: 26</li><li><span class='xr-has-index'>time</span>: 165816</li></ul></div><div class='xr-section-details'></div></li><li class='xr-section-item'><input id='section-c7619c3d-659c-4271-8fda-5ef3658a6819' class='xr-section-summary-in' type='checkbox'  checked><label for='section-c7619c3d-659c-4271-8fda-5ef3658a6819' class='xr-section-summary' >Coordinates: <span>(3)</span></label><div class='xr-section-inline-details'></div><div class='xr-section-details'><ul class='xr-var-list'><li class='xr-var-item'><div class='xr-var-name'><span>month</span></div><div class='xr-var-dims'>(time)</div><div class='xr-var-dtype'>int64</div><div class='xr-var-preview xr-preview'>...</div><input id='attrs-e29471d1-b866-46f9-81c7-698ebed3b7b2' class='xr-var-attrs-in' type='checkbox' disabled><label for='attrs-e29471d1-b866-46f9-81c7-698ebed3b7b2' title='Show/Hide attributes'><svg class='icon xr-icon-file-text2'><use xlink:href='#icon-file-text2'></use></svg></label><input id='data-8e20165f-5892-4692-9ebc-4e9df4911a49' class='xr-var-data-in' type='checkbox'><label for='data-8e20165f-5892-4692-9ebc-4e9df4911a49' title='Show/Hide data repr'><svg class='icon xr-icon-database'><use xlink:href='#icon-database'></use></svg></label><div class='xr-var-attrs'><dl class='xr-attrs'></dl></div><pre class='xr-var-data'>[165816 values with dtype=int64]</pre></li><li class='xr-var-item'><div class='xr-var-name'><span class='xr-has-index'>alt</span></div><div class='xr-var-dims'>(alt)</div><div class='xr-var-dtype'>int64</div><div class='xr-var-preview xr-preview'>70 72 74 76 78 ... 114 116 118 120</div><input id='attrs-6dfcc508-56fb-4d85-83b7-deedaa180758' class='xr-var-attrs-in' type='checkbox' ><label for='attrs-6dfcc508-56fb-4d85-83b7-deedaa180758' title='Show/Hide attributes'><svg class='icon xr-icon-file-text2'><use xlink:href='#icon-file-text2'></use></svg></label><input id='data-c4bc154e-65d4-4552-8737-f6b6ecf39b77' class='xr-var-data-in' type='checkbox'><label for='data-c4bc154e-65d4-4552-8737-f6b6ecf39b77' title='Show/Hide data repr'><svg class='icon xr-icon-database'><use xlink:href='#icon-database'></use></svg></label><div class='xr-var-attrs'><dl class='xr-attrs'><dt><span>units :</span></dt><dd>km</dd></dl></div><pre class='xr-var-data'>array([ 70,  72,  74,  76,  78,  80,  82,  84,  86,  88,  90,  92,  94,  96,\n",
       "        98, 100, 102, 104, 106, 108, 110, 112, 114, 116, 118, 120])</pre></li><li class='xr-var-item'><div class='xr-var-name'><span class='xr-has-index'>time</span></div><div class='xr-var-dims'>(time)</div><div class='xr-var-dtype'>datetime64[ns]</div><div class='xr-var-preview xr-preview'>2002-01-01 ... 2020-11-30T23:00:00</div><input id='attrs-9e1eb693-6d79-4345-9cde-43e2bf123448' class='xr-var-attrs-in' type='checkbox' disabled><label for='attrs-9e1eb693-6d79-4345-9cde-43e2bf123448' title='Show/Hide attributes'><svg class='icon xr-icon-file-text2'><use xlink:href='#icon-file-text2'></use></svg></label><input id='data-f8855406-5b26-46d0-8719-63595b32b9e7' class='xr-var-data-in' type='checkbox'><label for='data-f8855406-5b26-46d0-8719-63595b32b9e7' title='Show/Hide data repr'><svg class='icon xr-icon-database'><use xlink:href='#icon-database'></use></svg></label><div class='xr-var-attrs'><dl class='xr-attrs'></dl></div><pre class='xr-var-data'>array([&#x27;2002-01-01T00:00:00.000000000&#x27;, &#x27;2002-01-01T01:00:00.000000000&#x27;,\n",
       "       &#x27;2002-01-01T02:00:00.000000000&#x27;, ..., &#x27;2020-11-30T21:00:00.000000000&#x27;,\n",
       "       &#x27;2020-11-30T22:00:00.000000000&#x27;, &#x27;2020-11-30T23:00:00.000000000&#x27;],\n",
       "      dtype=&#x27;datetime64[ns]&#x27;)</pre></li></ul></div></li><li class='xr-section-item'><input id='section-7b78c5d4-a44f-42d8-90cd-8edf1ce62dae' class='xr-section-summary-in' type='checkbox'  checked><label for='section-7b78c5d4-a44f-42d8-90cd-8edf1ce62dae' class='xr-section-summary' >Data variables: <span>(1)</span></label><div class='xr-section-inline-details'></div><div class='xr-section-details'><ul class='xr-var-list'><li class='xr-var-item'><div class='xr-var-name'><span>GWD</span></div><div class='xr-var-dims'>(time, alt)</div><div class='xr-var-dtype'>float64</div><div class='xr-var-preview xr-preview'>...</div><input id='attrs-f74ac4ff-4f3b-4f1b-b620-e2fe39bc0b9c' class='xr-var-attrs-in' type='checkbox' ><label for='attrs-f74ac4ff-4f3b-4f1b-b620-e2fe39bc0b9c' title='Show/Hide attributes'><svg class='icon xr-icon-file-text2'><use xlink:href='#icon-file-text2'></use></svg></label><input id='data-87d05666-78f4-4883-ab5a-56b317b70ad7' class='xr-var-data-in' type='checkbox'><label for='data-87d05666-78f4-4883-ab5a-56b317b70ad7' title='Show/Hide data repr'><svg class='icon xr-icon-database'><use xlink:href='#icon-database'></use></svg></label><div class='xr-var-attrs'><dl class='xr-attrs'><dt><span>units :</span></dt><dd>m/s/day</dd><dt><span>long_name :</span></dt><dd>zonal GWF from fluxes</dd></dl></div><pre class='xr-var-data'>[4311216 values with dtype=float64]</pre></li></ul></div></li><li class='xr-section-item'><input id='section-734ac934-327e-4bd8-a58c-aec56da40b22' class='xr-section-summary-in' type='checkbox'  checked><label for='section-734ac934-327e-4bd8-a58c-aec56da40b22' class='xr-section-summary' >Attributes: <span>(2)</span></label><div class='xr-section-inline-details'></div><div class='xr-section-details'><dl class='xr-attrs'><dt><span>history :</span></dt><dd>Tue Jun  1 17:50:29 2021: ncrename -v __xarray_dataarray_variable__,GWD GWD_2002-01-01_2020-11-01_CMA.nc</dd><dt><span>NCO :</span></dt><dd>netCDF Operators version 4.8.1 (Homepage = http://nco.sf.net, Code = http://github.com/nco/nco)</dd></dl></div></li></ul></div></div>"
      ],
      "text/plain": [
       "<xarray.Dataset>\n",
       "Dimensions:  (alt: 26, time: 165816)\n",
       "Coordinates:\n",
       "    month    (time) int64 ...\n",
       "  * alt      (alt) int64 70 72 74 76 78 80 82 84 ... 108 110 112 114 116 118 120\n",
       "  * time     (time) datetime64[ns] 2002-01-01 ... 2020-11-30T23:00:00\n",
       "Data variables:\n",
       "    GWD      (time, alt) float64 ...\n",
       "Attributes:\n",
       "    history:  Tue Jun  1 17:50:29 2021: ncrename -v __xarray_dataarray_variab...\n",
       "    NCO:      netCDF Operators version 4.8.1 (Homepage = http://nco.sf.net, C..."
      ]
     },
     "execution_count": 8,
     "metadata": {},
     "output_type": "execute_result"
    }
   ],
   "source": [
    "ds"
   ]
  },
  {
   "cell_type": "code",
   "execution_count": 9,
   "id": "0deb369b",
   "metadata": {
    "execution": {
     "iopub.execute_input": "2021-06-07T20:43:06.051533Z",
     "iopub.status.busy": "2021-06-07T20:43:06.051122Z",
     "iopub.status.idle": "2021-06-07T20:43:21.762908Z",
     "shell.execute_reply": "2021-06-07T20:43:21.763947Z"
    },
    "papermill": {
     "duration": 15.726036,
     "end_time": "2021-06-07T20:43:21.764271",
     "exception": false,
     "start_time": "2021-06-07T20:43:06.038235",
     "status": "completed"
    },
    "tags": []
   },
   "outputs": [
    {
     "name": "stderr",
     "output_type": "stream",
     "text": [
      "/home/hochatmstud/.conda/envs/uas/lib/python3.6/site-packages/xarray/core/nanops.py:142: RuntimeWarning: Mean of empty slice\n",
      "  return np.nanmean(a, axis=axis, dtype=dtype)\n"
     ]
    },
    {
     "name": "stderr",
     "output_type": "stream",
     "text": [
      "/home/hochatmstud/.conda/envs/uas/lib/python3.6/site-packages/xarray/core/nanops.py:142: RuntimeWarning: Mean of empty slice\n",
      "  return np.nanmean(a, axis=axis, dtype=dtype)\n"
     ]
    }
   ],
   "source": [
    "gwd = ds['GWD'] \n",
    "\n",
    "gwd_anomalie = anomalie('day',gwd)\n",
    "\n",
    "sea_gwd = sea(40,station,gwd)\n",
    "sea_gwd_anomalie = sea(40,'Leipzig',gwd_anomalie)"
   ]
  },
  {
   "cell_type": "code",
   "execution_count": 10,
   "id": "ff7a6abe",
   "metadata": {
    "execution": {
     "iopub.execute_input": "2021-06-07T20:43:21.802807Z",
     "iopub.status.busy": "2021-06-07T20:43:21.802200Z",
     "iopub.status.idle": "2021-06-07T20:43:21.998859Z",
     "shell.execute_reply": "2021-06-07T20:43:21.999863Z"
    },
    "papermill": {
     "duration": 0.21747,
     "end_time": "2021-06-07T20:43:22.000171",
     "exception": false,
     "start_time": "2021-06-07T20:43:21.782701",
     "status": "completed"
    },
    "tags": []
   },
   "outputs": [
    {
     "data": {
      "text/plain": [
       "<matplotlib.collections.QuadMesh at 0x7f04e0c6b3c8>"
      ]
     },
     "execution_count": 10,
     "metadata": {},
     "output_type": "execute_result"
    },
    {
     "data": {
      "image/png": "[encoded data removed]",
      "text/plain": [
       "<Figure size 432x288 with 2 Axes>"
      ]
     },
     "metadata": {
      "needs_background": "light"
     },
     "output_type": "display_data"
    }
   ],
   "source": [
    "sea_gwd.sel(alt = slice(70,110)).plot(x='days',robust=True)"
   ]
  },
  {
   "cell_type": "code",
   "execution_count": null,
   "id": "6e2915f0",
   "metadata": {
    "papermill": {
     "duration": 0.013702,
     "end_time": "2021-06-07T20:43:22.028532",
     "exception": false,
     "start_time": "2021-06-07T20:43:22.014830",
     "status": "completed"
    },
    "tags": []
   },
   "outputs": [],
   "source": []
  }
 ],
 "metadata": {
  "celltoolbar": "Tags",
  "kernelspec": {
   "display_name": "Python 3",
   "language": "python",
   "name": "python3"
  },
  "language_info": {
   "codemirror_mode": {
    "name": "ipython",
    "version": 3
   },
   "file_extension": ".py",
   "mimetype": "text/x-python",
   "name": "python",
   "nbconvert_exporter": "python",
   "pygments_lexer": "ipython3",
   "version": "3.6.10"
  },
  "papermill": {
   "default_parameters": {},
   "duration": 18.735445,
   "end_time": "2021-06-07T20:43:22.450721",
   "environment_variables": {},
   "exception": null,
   "input_path": "GWD_analysis.ipynb",
   "output_path": "GWD_analysis_CMOR.ipynb",
   "parameters": {
    "station": "CMOR"
   },
   "start_time": "2021-06-07T20:43:03.715276",
   "version": "2.2.0"
  }
 },
 "nbformat": 4,
 "nbformat_minor": 5
}